{
 "cells": [
  {
   "cell_type": "code",
   "execution_count": 1,
   "metadata": {
    "collapsed": false
   },
   "outputs": [],
   "source": [
    "import readline\n",
    "from rpy2.robjects import pandas2ri\n",
    "from rpy2.robjects import r as R\n",
    "import numpy as np\n",
    "import pandas as pd"
   ]
  },
  {
   "cell_type": "code",
   "execution_count": 3,
   "metadata": {
    "collapsed": false
   },
   "outputs": [
    {
     "name": "stdout",
     "output_type": "stream",
     "text": [
      "house6311.RData  pres.elect.15.RData  StateLeg.RData\r\n"
     ]
    }
   ],
   "source": [
    "!ls ./data"
   ]
  },
  {
   "cell_type": "markdown",
   "metadata": {},
   "source": [
    "### Classic ICPSR6311"
   ]
  },
  {
   "cell_type": "code",
   "execution_count": 5,
   "metadata": {
    "collapsed": false
   },
   "outputs": [
    {
     "data": {
      "text/plain": [
       "R object with classes: ('character',) mapped to:\n",
       "<StrVector - Python:0x7f3a15280bc8 / R:0x5183938>\n",
       "['house6311']"
      ]
     },
     "execution_count": 5,
     "metadata": {},
     "output_type": "execute_result"
    }
   ],
   "source": [
    "R['load']('./data/house6311.RData')"
   ]
  },
  {
   "cell_type": "code",
   "execution_count": 6,
   "metadata": {
    "collapsed": false
   },
   "outputs": [],
   "source": [
    "dfs = [pandas2ri.ri2py(df) for df in R['house6311']]"
   ]
  },
  {
   "cell_type": "code",
   "execution_count": 8,
   "metadata": {
    "collapsed": false
   },
   "outputs": [],
   "source": [
    "years = R('names(house6311)')"
   ]
  },
  {
   "cell_type": "code",
   "execution_count": 9,
   "metadata": {
    "collapsed": false
   },
   "outputs": [],
   "source": [
    "all_data = pd.concat(dfs, keys=years)"
   ]
  },
  {
   "cell_type": "code",
   "execution_count": 15,
   "metadata": {
    "collapsed": false
   },
   "outputs": [],
   "source": [
    "all_data.INC.replace(-2147483648, np.nan, inplace=True)"
   ]
  },
  {
   "cell_type": "code",
   "execution_count": 19,
   "metadata": {
    "collapsed": false
   },
   "outputs": [],
   "source": [
    "all_data.to_csv('./data/house6311.csv')"
   ]
  },
  {
   "cell_type": "markdown",
   "metadata": {},
   "source": [
    "### State Leg data"
   ]
  },
  {
   "cell_type": "code",
   "execution_count": 20,
   "metadata": {
    "collapsed": false
   },
   "outputs": [
    {
     "data": {
      "text/plain": [
       "R object with classes: ('character',) mapped to:\n",
       "<StrVector - Python:0x7f3a14e9ecc8 / R:0x341d8a8>\n",
       "['StateLeg', 'StateSummary']"
      ]
     },
     "execution_count": 20,
     "metadata": {},
     "output_type": "execute_result"
    }
   ],
   "source": [
    "R['load']('./data/StateLeg.RData')"
   ]
  },
  {
   "cell_type": "code",
   "execution_count": 21,
   "metadata": {
    "collapsed": true
   },
   "outputs": [],
   "source": [
    "dfs = [pandas2ri.ri2py(df) for df in R['StateLeg']]"
   ]
  },
  {
   "cell_type": "code",
   "execution_count": 40,
   "metadata": {
    "collapsed": false
   },
   "outputs": [],
   "source": [
    "state_data = {name:[pandas2ri.ri2py(df) for df in R['StateLeg'][i]] for i,name in enumerate(R('names(StateLeg)'))}"
   ]
  },
  {
   "cell_type": "markdown",
   "metadata": {},
   "source": [
    "I'll do this later if I want it."
   ]
  },
  {
   "cell_type": "markdown",
   "metadata": {},
   "source": [
    "### Presidential Data"
   ]
  },
  {
   "cell_type": "code",
   "execution_count": 42,
   "metadata": {
    "collapsed": false
   },
   "outputs": [
    {
     "data": {
      "text/plain": [
       "R object with classes: ('character',) mapped to:\n",
       "<StrVector - Python:0x7f3a14c7cd08 / R:0x3704078>\n",
       "['pres.data', 'same.districts', 'years']"
      ]
     },
     "execution_count": 42,
     "metadata": {},
     "output_type": "execute_result"
    }
   ],
   "source": [
    "R['load']('./data/pres.elect.15.RData')"
   ]
  },
  {
   "cell_type": "code",
   "execution_count": 55,
   "metadata": {
    "collapsed": false
   },
   "outputs": [
    {
     "name": "stderr",
     "output_type": "stream",
     "text": [
      "/home/ljw/anaconda3/envs/py3/lib/python3.5/site-packages/pandas/types/missing.py:147: RuntimeWarning: invalid value encountered in isnan\n",
      "  result = np.isnan(values)\n"
     ]
    }
   ],
   "source": [
    "upto_2004 = pd.concat([pandas2ri.ri2py(df) for df in R('pres.data')[:-2]])"
   ]
  },
  {
   "cell_type": "code",
   "execution_count": 61,
   "metadata": {
    "collapsed": false
   },
   "outputs": [],
   "source": [
    "upto_2004.rexp.replace(-2147483648, np.nan, inplace=True)"
   ]
  },
  {
   "cell_type": "code",
   "execution_count": 64,
   "metadata": {
    "collapsed": false
   },
   "outputs": [],
   "source": [
    "e2008 = pandas2ri.ri2py(R('pres.data')[-2])\n",
    "e2012 = pandas2ri.ri2py(R('pres.data')[-1])"
   ]
  },
  {
   "cell_type": "code",
   "execution_count": 65,
   "metadata": {
    "collapsed": false
   },
   "outputs": [
    {
     "data": {
      "text/html": [
       "<div>\n",
       "<table border=\"1\" class=\"dataframe\">\n",
       "  <thead>\n",
       "    <tr style=\"text-align: right;\">\n",
       "      <th></th>\n",
       "      <th>year</th>\n",
       "      <th>stgj</th>\n",
       "      <th>State</th>\n",
       "      <th>CD</th>\n",
       "      <th>Obama</th>\n",
       "      <th>McCain</th>\n",
       "      <th>dpres</th>\n",
       "    </tr>\n",
       "  </thead>\n",
       "  <tbody>\n",
       "    <tr>\n",
       "      <th>1</th>\n",
       "      <td>2008.0</td>\n",
       "      <td>1.0</td>\n",
       "      <td>AL</td>\n",
       "      <td>1</td>\n",
       "      <td>39</td>\n",
       "      <td>61</td>\n",
       "      <td>39.0</td>\n",
       "    </tr>\n",
       "    <tr>\n",
       "      <th>2</th>\n",
       "      <td>2008.0</td>\n",
       "      <td>1.0</td>\n",
       "      <td>AL</td>\n",
       "      <td>2</td>\n",
       "      <td>36</td>\n",
       "      <td>63</td>\n",
       "      <td>36.0</td>\n",
       "    </tr>\n",
       "    <tr>\n",
       "      <th>3</th>\n",
       "      <td>2008.0</td>\n",
       "      <td>1.0</td>\n",
       "      <td>AL</td>\n",
       "      <td>3</td>\n",
       "      <td>43</td>\n",
       "      <td>56</td>\n",
       "      <td>43.0</td>\n",
       "    </tr>\n",
       "    <tr>\n",
       "      <th>4</th>\n",
       "      <td>2008.0</td>\n",
       "      <td>1.0</td>\n",
       "      <td>AL</td>\n",
       "      <td>4</td>\n",
       "      <td>23</td>\n",
       "      <td>76</td>\n",
       "      <td>23.0</td>\n",
       "    </tr>\n",
       "    <tr>\n",
       "      <th>5</th>\n",
       "      <td>2008.0</td>\n",
       "      <td>1.0</td>\n",
       "      <td>AL</td>\n",
       "      <td>5</td>\n",
       "      <td>38</td>\n",
       "      <td>61</td>\n",
       "      <td>38.0</td>\n",
       "    </tr>\n",
       "  </tbody>\n",
       "</table>\n",
       "</div>"
      ],
      "text/plain": [
       "     year  stgj State  CD  Obama  McCain  dpres\n",
       "1  2008.0   1.0    AL   1     39      61   39.0\n",
       "2  2008.0   1.0    AL   2     36      63   36.0\n",
       "3  2008.0   1.0    AL   3     43      56   43.0\n",
       "4  2008.0   1.0    AL   4     23      76   23.0\n",
       "5  2008.0   1.0    AL   5     38      61   38.0"
      ]
     },
     "execution_count": 65,
     "metadata": {},
     "output_type": "execute_result"
    }
   ],
   "source": [
    "e2008.head()"
   ]
  },
  {
   "cell_type": "code",
   "execution_count": 66,
   "metadata": {
    "collapsed": false
   },
   "outputs": [
    {
     "data": {
      "text/html": [
       "<div>\n",
       "<table border=\"1\" class=\"dataframe\">\n",
       "  <thead>\n",
       "    <tr style=\"text-align: right;\">\n",
       "      <th></th>\n",
       "      <th>CD</th>\n",
       "      <th>Incumbent</th>\n",
       "      <th>Party</th>\n",
       "      <th>Obama.2012</th>\n",
       "      <th>Romney.2012</th>\n",
       "      <th>Obama.2008</th>\n",
       "      <th>McCain.2008</th>\n",
       "      <th>state</th>\n",
       "      <th>dpres</th>\n",
       "      <th>stgj</th>\n",
       "    </tr>\n",
       "  </thead>\n",
       "  <tbody>\n",
       "    <tr>\n",
       "      <th>1</th>\n",
       "      <td>1.0</td>\n",
       "      <td>Young, Don</td>\n",
       "      <td>(R)</td>\n",
       "      <td>41.2</td>\n",
       "      <td>55.3</td>\n",
       "      <td>38.1</td>\n",
       "      <td>59.7</td>\n",
       "      <td>AK</td>\n",
       "      <td>42.694301</td>\n",
       "      <td>2</td>\n",
       "    </tr>\n",
       "    <tr>\n",
       "      <th>2</th>\n",
       "      <td>1.0</td>\n",
       "      <td>Bonner, Jo</td>\n",
       "      <td>(R)</td>\n",
       "      <td>37.4</td>\n",
       "      <td>61.8</td>\n",
       "      <td>38.5</td>\n",
       "      <td>60.9</td>\n",
       "      <td>AL</td>\n",
       "      <td>37.701613</td>\n",
       "      <td>1</td>\n",
       "    </tr>\n",
       "    <tr>\n",
       "      <th>3</th>\n",
       "      <td>2.0</td>\n",
       "      <td>Roby, Martha</td>\n",
       "      <td>(R)</td>\n",
       "      <td>35.0</td>\n",
       "      <td>64.5</td>\n",
       "      <td>35.0</td>\n",
       "      <td>64.5</td>\n",
       "      <td>AL</td>\n",
       "      <td>35.175879</td>\n",
       "      <td>1</td>\n",
       "    </tr>\n",
       "    <tr>\n",
       "      <th>4</th>\n",
       "      <td>3.0</td>\n",
       "      <td>Rogers, Mike D.</td>\n",
       "      <td>(R)</td>\n",
       "      <td>36.6</td>\n",
       "      <td>62.6</td>\n",
       "      <td>36.6</td>\n",
       "      <td>62.6</td>\n",
       "      <td>AL</td>\n",
       "      <td>36.895161</td>\n",
       "      <td>1</td>\n",
       "    </tr>\n",
       "    <tr>\n",
       "      <th>5</th>\n",
       "      <td>4.0</td>\n",
       "      <td>Aderholt, Rob</td>\n",
       "      <td>(R)</td>\n",
       "      <td>24.0</td>\n",
       "      <td>74.8</td>\n",
       "      <td>25.5</td>\n",
       "      <td>73.3</td>\n",
       "      <td>AL</td>\n",
       "      <td>24.291498</td>\n",
       "      <td>1</td>\n",
       "    </tr>\n",
       "  </tbody>\n",
       "</table>\n",
       "</div>"
      ],
      "text/plain": [
       "    CD        Incumbent Party  Obama.2012  Romney.2012  Obama.2008  \\\n",
       "1  1.0       Young, Don   (R)        41.2         55.3        38.1   \n",
       "2  1.0       Bonner, Jo   (R)        37.4         61.8        38.5   \n",
       "3  2.0     Roby, Martha   (R)        35.0         64.5        35.0   \n",
       "4  3.0  Rogers, Mike D.   (R)        36.6         62.6        36.6   \n",
       "5  4.0    Aderholt, Rob   (R)        24.0         74.8        25.5   \n",
       "\n",
       "   McCain.2008 state      dpres  stgj  \n",
       "1         59.7    AK  42.694301     2  \n",
       "2         60.9    AL  37.701613     1  \n",
       "3         64.5    AL  35.175879     1  \n",
       "4         62.6    AL  36.895161     1  \n",
       "5         73.3    AL  24.291498     1  "
      ]
     },
     "execution_count": 66,
     "metadata": {},
     "output_type": "execute_result"
    }
   ],
   "source": [
    "e2012.head()"
   ]
  },
  {
   "cell_type": "code",
   "execution_count": 67,
   "metadata": {
    "collapsed": false
   },
   "outputs": [
    {
     "name": "stderr",
     "output_type": "stream",
     "text": [
      "/home/ljw/anaconda3/envs/py3/lib/python3.5/site-packages/pandas/types/missing.py:147: RuntimeWarning: invalid value encountered in isnan\n",
      "  result = np.isnan(values)\n"
     ]
    },
    {
     "data": {
      "text/html": [
       "<div>\n",
       "<table border=\"1\" class=\"dataframe\">\n",
       "  <thead>\n",
       "    <tr style=\"text-align: right;\">\n",
       "      <th></th>\n",
       "      <th>year</th>\n",
       "      <th>stcd</th>\n",
       "      <th>inc</th>\n",
       "      <th>pwin</th>\n",
       "      <th>dv</th>\n",
       "      <th>dvp</th>\n",
       "      <th>fr</th>\n",
       "      <th>po1</th>\n",
       "      <th>po2</th>\n",
       "      <th>redist</th>\n",
       "      <th>dexp</th>\n",
       "      <th>rexp</th>\n",
       "      <th>dpres</th>\n",
       "      <th>stgj</th>\n",
       "      <th>cd</th>\n",
       "    </tr>\n",
       "  </thead>\n",
       "  <tbody>\n",
       "    <tr>\n",
       "      <th>126</th>\n",
       "      <td>1956</td>\n",
       "      <td>101</td>\n",
       "      <td>1</td>\n",
       "      <td>1</td>\n",
       "      <td>NaN</td>\n",
       "      <td>NaN</td>\n",
       "      <td>0</td>\n",
       "      <td>5</td>\n",
       "      <td>2</td>\n",
       "      <td>0</td>\n",
       "      <td></td>\n",
       "      <td>NaN</td>\n",
       "      <td>51.340000</td>\n",
       "      <td>1.0</td>\n",
       "      <td>1.0</td>\n",
       "    </tr>\n",
       "    <tr>\n",
       "      <th>45</th>\n",
       "      <td>1956</td>\n",
       "      <td>102</td>\n",
       "      <td>1</td>\n",
       "      <td>1</td>\n",
       "      <td>NaN</td>\n",
       "      <td>NaN</td>\n",
       "      <td>0</td>\n",
       "      <td>5</td>\n",
       "      <td>2</td>\n",
       "      <td>0</td>\n",
       "      <td></td>\n",
       "      <td>NaN</td>\n",
       "      <td>57.470001</td>\n",
       "      <td>1.0</td>\n",
       "      <td>2.0</td>\n",
       "    </tr>\n",
       "    <tr>\n",
       "      <th>82</th>\n",
       "      <td>1956</td>\n",
       "      <td>103</td>\n",
       "      <td>1</td>\n",
       "      <td>1</td>\n",
       "      <td>NaN</td>\n",
       "      <td>NaN</td>\n",
       "      <td>0</td>\n",
       "      <td>5</td>\n",
       "      <td>2</td>\n",
       "      <td>0</td>\n",
       "      <td></td>\n",
       "      <td>NaN</td>\n",
       "      <td>69.180000</td>\n",
       "      <td>1.0</td>\n",
       "      <td>3.0</td>\n",
       "    </tr>\n",
       "    <tr>\n",
       "      <th>117</th>\n",
       "      <td>1956</td>\n",
       "      <td>104</td>\n",
       "      <td>1</td>\n",
       "      <td>1</td>\n",
       "      <td>73.400002</td>\n",
       "      <td>NaN</td>\n",
       "      <td>0</td>\n",
       "      <td>0</td>\n",
       "      <td>0</td>\n",
       "      <td>0</td>\n",
       "      <td></td>\n",
       "      <td>NaN</td>\n",
       "      <td>58.750000</td>\n",
       "      <td>1.0</td>\n",
       "      <td>4.0</td>\n",
       "    </tr>\n",
       "    <tr>\n",
       "      <th>113</th>\n",
       "      <td>1956</td>\n",
       "      <td>105</td>\n",
       "      <td>1</td>\n",
       "      <td>1</td>\n",
       "      <td>NaN</td>\n",
       "      <td>NaN</td>\n",
       "      <td>0</td>\n",
       "      <td>5</td>\n",
       "      <td>2</td>\n",
       "      <td>0</td>\n",
       "      <td></td>\n",
       "      <td>NaN</td>\n",
       "      <td>64.809998</td>\n",
       "      <td>1.0</td>\n",
       "      <td>5.0</td>\n",
       "    </tr>\n",
       "  </tbody>\n",
       "</table>\n",
       "</div>"
      ],
      "text/plain": [
       "     year  stcd  inc  pwin         dv  dvp  fr po1 po2  redist dexp  rexp  \\\n",
       "126  1956   101    1     1        NaN  NaN   0   5   2       0        NaN   \n",
       "45   1956   102    1     1        NaN  NaN   0   5   2       0        NaN   \n",
       "82   1956   103    1     1        NaN  NaN   0   5   2       0        NaN   \n",
       "117  1956   104    1     1  73.400002  NaN   0   0   0       0        NaN   \n",
       "113  1956   105    1     1        NaN  NaN   0   5   2       0        NaN   \n",
       "\n",
       "         dpres  stgj   cd  \n",
       "126  51.340000   1.0  1.0  \n",
       "45   57.470001   1.0  2.0  \n",
       "82   69.180000   1.0  3.0  \n",
       "117  58.750000   1.0  4.0  \n",
       "113  64.809998   1.0  5.0  "
      ]
     },
     "execution_count": 67,
     "metadata": {},
     "output_type": "execute_result"
    }
   ],
   "source": [
    "upto_2004.head()"
   ]
  },
  {
   "cell_type": "code",
   "execution_count": 68,
   "metadata": {
    "collapsed": false
   },
   "outputs": [
    {
     "name": "stderr",
     "output_type": "stream",
     "text": [
      "/home/ljw/anaconda3/envs/py3/lib/python3.5/site-packages/pandas/types/missing.py:147: RuntimeWarning: invalid value encountered in isnan\n",
      "  result = np.isnan(values)\n"
     ]
    }
   ],
   "source": [
    "upto_2004.to_csv('pres_upto_2004.csv')"
   ]
  },
  {
   "cell_type": "code",
   "execution_count": 69,
   "metadata": {
    "collapsed": true
   },
   "outputs": [],
   "source": [
    "e2008.to_csv('pres_2008.csv')"
   ]
  },
  {
   "cell_type": "code",
   "execution_count": 70,
   "metadata": {
    "collapsed": true
   },
   "outputs": [],
   "source": [
    "e2012.to_csv('pres_2012.csv')"
   ]
  },
  {
   "cell_type": "code",
   "execution_count": null,
   "metadata": {
    "collapsed": true
   },
   "outputs": [],
   "source": []
  }
 ],
 "metadata": {
  "anaconda-cloud": {},
  "kernelspec": {
   "display_name": "Python [conda env:py3]",
   "language": "python",
   "name": "conda-env-py3-py"
  },
  "language_info": {
   "codemirror_mode": {
    "name": "ipython",
    "version": 3
   },
   "file_extension": ".py",
   "mimetype": "text/x-python",
   "name": "python",
   "nbconvert_exporter": "python",
   "pygments_lexer": "ipython3",
   "version": "3.5.2"
  }
 },
 "nbformat": 4,
 "nbformat_minor": 1
}
