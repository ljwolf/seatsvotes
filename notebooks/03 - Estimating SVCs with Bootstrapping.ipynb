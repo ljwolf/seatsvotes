{
 "cells": [
  {
   "cell_type": "code",
   "execution_count": 1,
   "metadata": {},
   "outputs": [],
   "source": [
    "import pandas as pd\n",
    "import numpy as np\n",
    "import seaborn as sns\n",
    "import matplotlib.pyplot as plt\n",
    "%matplotlib inline"
   ]
  },
  {
   "cell_type": "code",
   "execution_count": 2,
   "metadata": {},
   "outputs": [],
   "source": [
    "import seatsvotes"
   ]
  },
  {
   "cell_type": "code",
   "execution_count": 3,
   "metadata": {},
   "outputs": [],
   "source": [
    "house = seatsvotes.data.congress(geo=True)\n",
    "house = house.query('year in (2006,2008)')"
   ]
  },
  {
   "cell_type": "code",
   "execution_count": 4,
   "metadata": {},
   "outputs": [
    {
     "data": {
      "text/html": [
       "<div>\n",
       "<style scoped>\n",
       "    .dataframe tbody tr th:only-of-type {\n",
       "        vertical-align: middle;\n",
       "    }\n",
       "\n",
       "    .dataframe tbody tr th {\n",
       "        vertical-align: top;\n",
       "    }\n",
       "\n",
       "    .dataframe thead th {\n",
       "        text-align: right;\n",
       "    }\n",
       "</style>\n",
       "<table border=\"1\" class=\"dataframe\">\n",
       "  <thead>\n",
       "    <tr style=\"text-align: right;\">\n",
       "      <th></th>\n",
       "      <th>index</th>\n",
       "      <th>congress</th>\n",
       "      <th>year</th>\n",
       "      <th>delsouth</th>\n",
       "      <th>state_fips</th>\n",
       "      <th>contest_ui</th>\n",
       "      <th>inc</th>\n",
       "      <th>king_dist</th>\n",
       "      <th>lewis_dist</th>\n",
       "      <th>state_name</th>\n",
       "      <th>turnout</th>\n",
       "      <th>vote_share</th>\n",
       "      <th>geom_uid</th>\n",
       "      <th>geometry</th>\n",
       "    </tr>\n",
       "  </thead>\n",
       "  <tbody>\n",
       "    <tr>\n",
       "      <th>1740</th>\n",
       "      <td>8257</td>\n",
       "      <td>110</td>\n",
       "      <td>2006</td>\n",
       "      <td>1</td>\n",
       "      <td>12</td>\n",
       "      <td>110012021</td>\n",
       "      <td>-1</td>\n",
       "      <td>NaN</td>\n",
       "      <td>21</td>\n",
       "      <td>florida</td>\n",
       "      <td>112306.0</td>\n",
       "      <td>0.405339</td>\n",
       "      <td>012108112021</td>\n",
       "      <td>POLYGON ((-80.30847300000001 25.77737699999997...</td>\n",
       "    </tr>\n",
       "    <tr>\n",
       "      <th>1741</th>\n",
       "      <td>8258</td>\n",
       "      <td>110</td>\n",
       "      <td>2006</td>\n",
       "      <td>1</td>\n",
       "      <td>05</td>\n",
       "      <td>110005003</td>\n",
       "      <td>-1</td>\n",
       "      <td>NaN</td>\n",
       "      <td>3</td>\n",
       "      <td>arkansas</td>\n",
       "      <td>200924.0</td>\n",
       "      <td>0.377680</td>\n",
       "      <td>005108112003</td>\n",
       "      <td>POLYGON ((-94.43377207885037 35.31490172478177...</td>\n",
       "    </tr>\n",
       "    <tr>\n",
       "      <th>1742</th>\n",
       "      <td>8259</td>\n",
       "      <td>110</td>\n",
       "      <td>2006</td>\n",
       "      <td>1</td>\n",
       "      <td>12</td>\n",
       "      <td>110012017</td>\n",
       "      <td>1</td>\n",
       "      <td>NaN</td>\n",
       "      <td>17</td>\n",
       "      <td>florida</td>\n",
       "      <td>90663.0</td>\n",
       "      <td>1.000000</td>\n",
       "      <td>012108112017</td>\n",
       "      <td>POLYGON ((-80.184569 25.84757400000002, -80.18...</td>\n",
       "    </tr>\n",
       "    <tr>\n",
       "      <th>1743</th>\n",
       "      <td>8260</td>\n",
       "      <td>110</td>\n",
       "      <td>2006</td>\n",
       "      <td>1</td>\n",
       "      <td>12</td>\n",
       "      <td>110012018</td>\n",
       "      <td>-1</td>\n",
       "      <td>NaN</td>\n",
       "      <td>18</td>\n",
       "      <td>florida</td>\n",
       "      <td>128130.0</td>\n",
       "      <td>0.378514</td>\n",
       "      <td>012108112018</td>\n",
       "      <td>(POLYGON ((-80.312274 25.638081, -80.312174 25...</td>\n",
       "    </tr>\n",
       "    <tr>\n",
       "      <th>1744</th>\n",
       "      <td>8261</td>\n",
       "      <td>110</td>\n",
       "      <td>2006</td>\n",
       "      <td>1</td>\n",
       "      <td>12</td>\n",
       "      <td>110012020</td>\n",
       "      <td>1</td>\n",
       "      <td>NaN</td>\n",
       "      <td>20</td>\n",
       "      <td>florida</td>\n",
       "      <td>NaN</td>\n",
       "      <td>1.000000</td>\n",
       "      <td>012108112020</td>\n",
       "      <td>(POLYGON ((-80.214769 26.04646699999997, -80.2...</td>\n",
       "    </tr>\n",
       "  </tbody>\n",
       "</table>\n",
       "</div>"
      ],
      "text/plain": [
       "      index  congress  year  delsouth state_fips contest_ui  inc  king_dist  \\\n",
       "1740   8257       110  2006         1         12  110012021   -1        NaN   \n",
       "1741   8258       110  2006         1         05  110005003   -1        NaN   \n",
       "1742   8259       110  2006         1         12  110012017    1        NaN   \n",
       "1743   8260       110  2006         1         12  110012018   -1        NaN   \n",
       "1744   8261       110  2006         1         12  110012020    1        NaN   \n",
       "\n",
       "      lewis_dist state_name   turnout  vote_share      geom_uid  \\\n",
       "1740          21    florida  112306.0    0.405339  012108112021   \n",
       "1741           3   arkansas  200924.0    0.377680  005108112003   \n",
       "1742          17    florida   90663.0    1.000000  012108112017   \n",
       "1743          18    florida  128130.0    0.378514  012108112018   \n",
       "1744          20    florida       NaN    1.000000  012108112020   \n",
       "\n",
       "                                               geometry  \n",
       "1740  POLYGON ((-80.30847300000001 25.77737699999997...  \n",
       "1741  POLYGON ((-94.43377207885037 35.31490172478177...  \n",
       "1742  POLYGON ((-80.184569 25.84757400000002, -80.18...  \n",
       "1743  (POLYGON ((-80.312274 25.638081, -80.312174 25...  \n",
       "1744  (POLYGON ((-80.214769 26.04646699999997, -80.2...  "
      ]
     },
     "execution_count": 4,
     "metadata": {},
     "output_type": "execute_result"
    }
   ],
   "source": [
    "house.head()"
   ]
  },
  {
   "cell_type": "code",
   "execution_count": 5,
   "metadata": {},
   "outputs": [],
   "source": [
    "house['district_id'] = house.contest_ui.apply(lambda x: x[3:])"
   ]
  },
  {
   "cell_type": "code",
   "execution_count": 6,
   "metadata": {},
   "outputs": [
    {
     "name": "stderr",
     "output_type": "stream",
     "text": [
      "/home/lw17329/Dropbox/dissert/dev/seatsvotes/seatsvotes/utils.py:30: UserWarning: computing redistricting from years vector\n",
      "  warn('computing redistricting from years vector')\n",
      "/home/lw17329/anaconda/envs/ana/lib/python3.6/site-packages/pandas/core/frame.py:3781: SettingWithCopyWarning: \n",
      "A value is trying to be set on a copy of a slice from a DataFrame\n",
      "\n",
      "See the caveats in the documentation: http://pandas.pydata.org/pandas-docs/stable/indexing.html#indexing-view-versus-copy\n",
      "  return super(DataFrame, self).rename(**kwargs)\n"
     ]
    }
   ],
   "source": [
    "bootstrapper = seatsvotes.Bootstrap(house, \n",
    "                                    uncontested='ignore',\n",
    "                                    district_id='district_id')"
   ]
  },
  {
   "cell_type": "code",
   "execution_count": 7,
   "metadata": {},
   "outputs": [],
   "source": [
    "bootstrapped = bootstrapper.simulate_elections(n_sims=1000)"
   ]
  },
  {
   "cell_type": "code",
   "execution_count": 8,
   "metadata": {},
   "outputs": [
    {
     "data": {
      "text/plain": [
       "<matplotlib.axes._subplots.AxesSubplot at 0x7f7f99cb0908>"
      ]
     },
     "execution_count": 8,
     "metadata": {},
     "output_type": "execute_result"
    },
    {
     "data": {
      "image/png": "[encoded data removed]",
      "text/plain": [
       "<Figure size 432x288 with 1 Axes>"
      ]
     },
     "metadata": {},
     "output_type": "display_data"
    }
   ],
   "source": [
    "seatsvotes.plot.cdf_shroud(house.query('year == 2008').vote_share,\n",
    "                           bootstrapped)"
   ]
  }
 ],
 "metadata": {
  "kernelspec": {
   "display_name": "Python 3 (Analysis)",
   "language": "python",
   "name": "ana"
  },
  "language_info": {
   "codemirror_mode": {
    "name": "ipython",
    "version": 3
   },
   "file_extension": ".py",
   "mimetype": "text/x-python",
   "name": "python",
   "nbconvert_exporter": "python",
   "pygments_lexer": "ipython3",
   "version": "3.6.5"
  }
 },
 "nbformat": 4,
 "nbformat_minor": 2
}
