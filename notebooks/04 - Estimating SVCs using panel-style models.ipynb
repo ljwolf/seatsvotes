{
 "cells": [
  {
   "cell_type": "code",
   "execution_count": 1,
   "metadata": {},
   "outputs": [],
   "source": [
    "import pandas as pd\n",
    "import numpy as np\n",
    "import seaborn as sns\n",
    "import matplotlib.pyplot as plt\n",
    "%matplotlib inline"
   ]
  },
  {
   "cell_type": "code",
   "execution_count": 2,
   "metadata": {},
   "outputs": [],
   "source": [
    "import seatsvotes"
   ]
  },
  {
   "cell_type": "code",
   "execution_count": 3,
   "metadata": {},
   "outputs": [],
   "source": [
    "house = seatsvotes.data.congress(geo=True)\n",
    "house = house.query('year in (2002,2004,2006,2008)')"
   ]
  },
  {
   "cell_type": "code",
   "execution_count": 4,
   "metadata": {},
   "outputs": [],
   "source": [
    "house['district_id'] = house.contest_ui.apply(lambda x: x[3:])"
   ]
  },
  {
   "cell_type": "code",
   "execution_count": 5,
   "metadata": {},
   "outputs": [
    {
     "data": {
      "text/html": [
       "<div>\n",
       "<style scoped>\n",
       "    .dataframe tbody tr th:only-of-type {\n",
       "        vertical-align: middle;\n",
       "    }\n",
       "\n",
       "    .dataframe tbody tr th {\n",
       "        vertical-align: top;\n",
       "    }\n",
       "\n",
       "    .dataframe thead th {\n",
       "        text-align: right;\n",
       "    }\n",
       "</style>\n",
       "<table border=\"1\" class=\"dataframe\">\n",
       "  <thead>\n",
       "    <tr style=\"text-align: right;\">\n",
       "      <th></th>\n",
       "      <th>index</th>\n",
       "      <th>congress</th>\n",
       "      <th>year</th>\n",
       "      <th>delsouth</th>\n",
       "      <th>state_fips</th>\n",
       "      <th>contest_ui</th>\n",
       "      <th>inc</th>\n",
       "      <th>king_dist</th>\n",
       "      <th>lewis_dist</th>\n",
       "      <th>state_name</th>\n",
       "      <th>turnout</th>\n",
       "      <th>vote_share</th>\n",
       "      <th>geom_uid</th>\n",
       "      <th>geometry</th>\n",
       "      <th>district_id</th>\n",
       "    </tr>\n",
       "  </thead>\n",
       "  <tbody>\n",
       "    <tr>\n",
       "      <th>435</th>\n",
       "      <td>2175</td>\n",
       "      <td>108</td>\n",
       "      <td>2002</td>\n",
       "      <td>1</td>\n",
       "      <td>48</td>\n",
       "      <td>108048018</td>\n",
       "      <td>1</td>\n",
       "      <td>NaN</td>\n",
       "      <td>18</td>\n",
       "      <td>texas</td>\n",
       "      <td>127141.0</td>\n",
       "      <td>0.779929</td>\n",
       "      <td>048108108018</td>\n",
       "      <td>POLYGON ((-95.49837100000001 29.94927400000001...</td>\n",
       "      <td>048018</td>\n",
       "    </tr>\n",
       "    <tr>\n",
       "      <th>436</th>\n",
       "      <td>2176</td>\n",
       "      <td>108</td>\n",
       "      <td>2002</td>\n",
       "      <td>1</td>\n",
       "      <td>48</td>\n",
       "      <td>108048024</td>\n",
       "      <td>1</td>\n",
       "      <td>NaN</td>\n",
       "      <td>24</td>\n",
       "      <td>texas</td>\n",
       "      <td>111334.0</td>\n",
       "      <td>0.655703</td>\n",
       "      <td>048108108024</td>\n",
       "      <td>POLYGON ((-97.13458900000001 32.81482900000002...</td>\n",
       "      <td>048024</td>\n",
       "    </tr>\n",
       "    <tr>\n",
       "      <th>437</th>\n",
       "      <td>2177</td>\n",
       "      <td>108</td>\n",
       "      <td>2002</td>\n",
       "      <td>1</td>\n",
       "      <td>12</td>\n",
       "      <td>108012021</td>\n",
       "      <td>-1</td>\n",
       "      <td>NaN</td>\n",
       "      <td>21</td>\n",
       "      <td>florida</td>\n",
       "      <td>NaN</td>\n",
       "      <td>0.000000</td>\n",
       "      <td>012108112021</td>\n",
       "      <td>POLYGON ((-80.30847300000001 25.77737699999997...</td>\n",
       "      <td>012021</td>\n",
       "    </tr>\n",
       "    <tr>\n",
       "      <th>438</th>\n",
       "      <td>2178</td>\n",
       "      <td>108</td>\n",
       "      <td>2002</td>\n",
       "      <td>1</td>\n",
       "      <td>48</td>\n",
       "      <td>108048030</td>\n",
       "      <td>1</td>\n",
       "      <td>NaN</td>\n",
       "      <td>30</td>\n",
       "      <td>texas</td>\n",
       "      <td>117961.0</td>\n",
       "      <td>0.754317</td>\n",
       "      <td>048108108030</td>\n",
       "      <td>POLYGON ((-97.034086 32.81652900000002, -97.03...</td>\n",
       "      <td>048030</td>\n",
       "    </tr>\n",
       "    <tr>\n",
       "      <th>439</th>\n",
       "      <td>2179</td>\n",
       "      <td>108</td>\n",
       "      <td>2002</td>\n",
       "      <td>1</td>\n",
       "      <td>48</td>\n",
       "      <td>108048032</td>\n",
       "      <td>-1</td>\n",
       "      <td>NaN</td>\n",
       "      <td>32</td>\n",
       "      <td>texas</td>\n",
       "      <td>145112.0</td>\n",
       "      <td>0.309320</td>\n",
       "      <td>048108108032</td>\n",
       "      <td>POLYGON ((-96.844701 32.98756100000001, -96.84...</td>\n",
       "      <td>048032</td>\n",
       "    </tr>\n",
       "  </tbody>\n",
       "</table>\n",
       "</div>"
      ],
      "text/plain": [
       "     index  congress  year  delsouth state_fips contest_ui  inc  king_dist  \\\n",
       "435   2175       108  2002         1         48  108048018    1        NaN   \n",
       "436   2176       108  2002         1         48  108048024    1        NaN   \n",
       "437   2177       108  2002         1         12  108012021   -1        NaN   \n",
       "438   2178       108  2002         1         48  108048030    1        NaN   \n",
       "439   2179       108  2002         1         48  108048032   -1        NaN   \n",
       "\n",
       "     lewis_dist state_name   turnout  vote_share      geom_uid  \\\n",
       "435          18      texas  127141.0    0.779929  048108108018   \n",
       "436          24      texas  111334.0    0.655703  048108108024   \n",
       "437          21    florida       NaN    0.000000  012108112021   \n",
       "438          30      texas  117961.0    0.754317  048108108030   \n",
       "439          32      texas  145112.0    0.309320  048108108032   \n",
       "\n",
       "                                              geometry district_id  \n",
       "435  POLYGON ((-95.49837100000001 29.94927400000001...      048018  \n",
       "436  POLYGON ((-97.13458900000001 32.81482900000002...      048024  \n",
       "437  POLYGON ((-80.30847300000001 25.77737699999997...      012021  \n",
       "438  POLYGON ((-97.034086 32.81652900000002, -97.03...      048030  \n",
       "439  POLYGON ((-96.844701 32.98756100000001, -96.84...      048032  "
      ]
     },
     "execution_count": 5,
     "metadata": {},
     "output_type": "execute_result"
    }
   ],
   "source": [
    "house.head()"
   ]
  },
  {
   "cell_type": "code",
   "execution_count": 6,
   "metadata": {},
   "outputs": [
    {
     "name": "stderr",
     "output_type": "stream",
     "text": [
      "/home/lw17329/Dropbox/dissert/dev/seatsvotes/seatsvotes/utils.py:143: UserWarning: computing redistricting from years vector\n",
      "  warn('computing redistricting from years vector')\n",
      "/home/lw17329/anaconda/envs/ana/lib/python3.6/site-packages/pandas/core/frame.py:3781: SettingWithCopyWarning: \n",
      "A value is trying to be set on a copy of a slice from a DataFrame\n",
      "\n",
      "See the caveats in the documentation: http://pandas.pydata.org/pandas-docs/stable/indexing.html#indexing-view-versus-copy\n",
      "  return super(DataFrame, self).rename(**kwargs)\n"
     ]
    }
   ],
   "source": [
    "pan = seatsvotes.Panel(house, covariate_columns=['inc'],\n",
    "                        weight_column='turnout',\n",
    "                        uncontested='censor', group_by='state_name',\n",
    "                        missing='drop')"
   ]
  },
  {
   "cell_type": "code",
   "execution_count": 12,
   "metadata": {},
   "outputs": [],
   "source": [
    "simulated = pan.simulate_elections(n_sims=1000)"
   ]
  },
  {
   "cell_type": "code",
   "execution_count": 13,
   "metadata": {},
   "outputs": [
    {
     "data": {
      "text/plain": [
       "<matplotlib.axes._subplots.AxesSubplot at 0x7f0ff8686978>"
      ]
     },
     "execution_count": 13,
     "metadata": {},
     "output_type": "execute_result"
    },
    {
     "data": {
      "image/png": "[encoded data removed]",
      "text/plain": [
       "<Figure size 432x288 with 1 Axes>"
      ]
     },
     "metadata": {},
     "output_type": "display_data"
    }
   ],
   "source": [
    "seatsvotes.plot.cdf_shroud(house.query('year == 2008').vote_share.values, \n",
    "                           simulated)"
   ]
  },
  {
   "cell_type": "code",
   "execution_count": null,
   "metadata": {},
   "outputs": [],
   "source": []
  }
 ],
 "metadata": {
  "kernelspec": {
   "display_name": "Python 3 (Analysis)",
   "language": "python",
   "name": "ana"
  },
  "language_info": {
   "codemirror_mode": {
    "name": "ipython",
    "version": 3
   },
   "file_extension": ".py",
   "mimetype": "text/x-python",
   "name": "python",
   "nbconvert_exporter": "python",
   "pygments_lexer": "ipython3",
   "version": "3.6.5"
  }
 },
 "nbformat": 4,
 "nbformat_minor": 2
}
