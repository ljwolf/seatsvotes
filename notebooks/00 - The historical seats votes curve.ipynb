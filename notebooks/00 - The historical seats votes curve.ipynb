{
 "cells": [
  {
   "cell_type": "markdown",
   "metadata": {},
   "source": [
    "# An introduction to the Seats-Votes Curve\n",
    "\n",
    "*Levi John Wolf<br>\n",
    "University of Bristol<br>\n",
    "levi.john.wolf@gmail.com<br>\n",
    "(Supported by NSF #1657689)*"
   ]
  },
  {
   "cell_type": "markdown",
   "metadata": {},
   "source": [
    "# The History of the Seats-Votes Curve"
   ]
  },
  {
   "cell_type": "markdown",
   "metadata": {},
   "source": [
    "The \"seats votes curve,\" a theoretical model describing how many seats a party wins in the legislature as a function of their popular vote percentage, is a long-lived concept in Political Science. Early work studying the British electoral system focused on the [\"Cube Rule,\"](https://en.wikipedia.org/wiki/Cube_rule), a theory describing how winners tend to be *overrepresented* in legislatures in two-party, first-past-the-post electoral systems like that found in the US, New Zealand, or the UK. While originally formulated in the early 20th century, empirical study of the law continued in earnest until around the 1970s. There, studies by Kendall (1950), Taagepara (1973), and Tufte (1973) discuss the relationship in terms of a *long-run* historical relationship. For them, the seats-votes curve is an *empirical description of the relationship between the vote share a party won and the percentage of the legislature that the party ended up winning.* Thus, much of the early work on *structural analysis* of electoral systems focused on the detection of empirical regularities. \n",
    "\n",
    "Later work after Browning (1987) or Gelman (1994) moved to a much stronger inferential framework in order to try to estimate this relationship *within individual elections*. Much of the recent academic work on partisan gerrymandering comes in this mode of analysis. For example, nearly all of the entries in the [**Common Cause Gerrymandering Writing Competition**](https://www.commoncause.org/partisan-gerrymandering-writing-competition/) were in this mode of analysis, and many of the political models used by \"ensemble\" analyses following Chen & Rodden (2013) follow this approach. \n",
    "\n",
    "In hopes of providing some groundwork in electoral sciences, I'll cover a little bit about the historical method of analysis before we move to the within-election analysis that's more common today. I'll talk about the logic of the model, possible pitfalls with its interpretation and representation of elections. This work is built in Python, on top of the `seatsvotes` library, a new library for working with Electoral Data, like `pscl` in R. \n",
    "\n",
    "First, though, let's pull in some required packages for our analysis. The `import` statement in Python is kind of like the `library()` statement in `R`, except that in Python we always refer to the package explicitly when we use a function from that package (like you might if you used `dplyr::mutate()` instead of just `mutate()`). "
   ]
  },
  {
   "cell_type": "code",
   "execution_count": 1,
   "metadata": {},
   "outputs": [
    {
     "name": "stderr",
     "output_type": "stream",
     "text": [
      "/home/lw17329/anaconda/envs/ana/lib/python3.6/importlib/_bootstrap.py:219: RuntimeWarning: numpy.dtype size changed, may indicate binary incompatibility. Expected 96, got 88\n",
      "  return f(*args, **kwds)\n",
      "/home/lw17329/anaconda/envs/ana/lib/python3.6/importlib/_bootstrap.py:219: RuntimeWarning: numpy.dtype size changed, may indicate binary incompatibility. Expected 96, got 88\n",
      "  return f(*args, **kwds)\n"
     ]
    }
   ],
   "source": [
    "import pandas\n",
    "import numpy\n",
    "import seaborn\n",
    "import seatsvotes\n",
    "import matplotlib.pyplot as plt\n",
    "%matplotlib inline"
   ]
  },
  {
   "cell_type": "markdown",
   "metadata": {},
   "source": [
    "The `seatsvotes` package is a new package developed as part of NSF 1657689, and wraps up a couple of previous methods for modelling seats-votes curves (like Gelman & King (1994), Linzer (2013), an adaptation of McGann et al. (2014)) and a few new methods. It also ships with it much of the example data that is used in common explorations of electoral bias.\n",
    "\n",
    "So, to start our exploration, let's first load in the example dataset provided for historical elections to the US Congress from 1896 to 2010. This is a subset of the data available from the [**Spatiotemporal Database of Congressional Elections**](https://www.nature.com/articles/sdata2017108). Since we're not working with the spatial data, we'll primarily be using the results that bridge the original ICSPR 6311 and later products from the Consitituency Level Electoral Archive. "
   ]
  },
  {
   "cell_type": "code",
   "execution_count": 10,
   "metadata": {},
   "outputs": [],
   "source": [
    "house = seatsvotes.data.congress()"
   ]
  },
  {
   "cell_type": "code",
   "execution_count": 11,
   "metadata": {},
   "outputs": [
    {
     "data": {
      "text/html": [
       "<div>\n",
       "<style scoped>\n",
       "    .dataframe tbody tr th:only-of-type {\n",
       "        vertical-align: middle;\n",
       "    }\n",
       "\n",
       "    .dataframe tbody tr th {\n",
       "        vertical-align: top;\n",
       "    }\n",
       "\n",
       "    .dataframe thead th {\n",
       "        text-align: right;\n",
       "    }\n",
       "</style>\n",
       "<table border=\"1\" class=\"dataframe\">\n",
       "  <thead>\n",
       "    <tr style=\"text-align: right;\">\n",
       "      <th></th>\n",
       "      <th>year</th>\n",
       "      <th>idx</th>\n",
       "      <th>state</th>\n",
       "      <th>dist</th>\n",
       "      <th>inc</th>\n",
       "      <th>vote_share</th>\n",
       "      <th>turnout</th>\n",
       "      <th>south</th>\n",
       "    </tr>\n",
       "  </thead>\n",
       "  <tbody>\n",
       "    <tr>\n",
       "      <th>0</th>\n",
       "      <td>1896</td>\n",
       "      <td>1</td>\n",
       "      <td>1</td>\n",
       "      <td>1</td>\n",
       "      <td>NaN</td>\n",
       "      <td>0.282184</td>\n",
       "      <td>38482.0</td>\n",
       "      <td>0</td>\n",
       "    </tr>\n",
       "    <tr>\n",
       "      <th>1</th>\n",
       "      <td>1896</td>\n",
       "      <td>2</td>\n",
       "      <td>1</td>\n",
       "      <td>2</td>\n",
       "      <td>NaN</td>\n",
       "      <td>0.383052</td>\n",
       "      <td>58261.0</td>\n",
       "      <td>0</td>\n",
       "    </tr>\n",
       "    <tr>\n",
       "      <th>2</th>\n",
       "      <td>1896</td>\n",
       "      <td>3</td>\n",
       "      <td>1</td>\n",
       "      <td>3</td>\n",
       "      <td>NaN</td>\n",
       "      <td>0.334220</td>\n",
       "      <td>22934.0</td>\n",
       "      <td>0</td>\n",
       "    </tr>\n",
       "    <tr>\n",
       "      <th>3</th>\n",
       "      <td>1896</td>\n",
       "      <td>4</td>\n",
       "      <td>1</td>\n",
       "      <td>4</td>\n",
       "      <td>NaN</td>\n",
       "      <td>0.338997</td>\n",
       "      <td>46381.0</td>\n",
       "      <td>0</td>\n",
       "    </tr>\n",
       "    <tr>\n",
       "      <th>4</th>\n",
       "      <td>1896</td>\n",
       "      <td>5</td>\n",
       "      <td>2</td>\n",
       "      <td>1</td>\n",
       "      <td>NaN</td>\n",
       "      <td>0.312600</td>\n",
       "      <td>28119.0</td>\n",
       "      <td>0</td>\n",
       "    </tr>\n",
       "  </tbody>\n",
       "</table>\n",
       "</div>"
      ],
      "text/plain": [
       "   year  idx  state  dist  inc  vote_share  turnout  south\n",
       "0  1896    1      1     1  NaN    0.282184  38482.0      0\n",
       "1  1896    2      1     2  NaN    0.383052  58261.0      0\n",
       "2  1896    3      1     3  NaN    0.334220  22934.0      0\n",
       "3  1896    4      1     4  NaN    0.338997  46381.0      0\n",
       "4  1896    5      2     1  NaN    0.312600  28119.0      0"
      ]
     },
     "execution_count": 11,
     "metadata": {},
     "output_type": "execute_result"
    }
   ],
   "source": [
    "house.head()"
   ]
  },
  {
   "cell_type": "markdown",
   "metadata": {},
   "source": [
    "By convention, we usually model Democrats as the \"Reference party,\" but this can be flipped and the analyses simply flip as well.\n",
    "\n",
    "# The finnicky nature of averages\n",
    "\n",
    "Early on, work in this literature was fairly consistently concerned with the distinction between *party vote share* and *average district vote share*. Subtly, this distinction arises because the average of each districts' vote shares *is not* equal to the percent of all votes the party receives. Basically, if we let \n",
    "- $v_i$ be the number of votes cast for Democrats in district $i$\n",
    "- $n_i$ be the total number of votes cast in district $i$\n",
    "- $k$ be the number of districts in the electoral system,\n",
    "\n",
    "this concern arises because the \"total\" popular vote percentage for a party is not equal to its average vote share among districts; since districts have different turnouts, the two aren't equal in general:\n",
    "$$ \\frac{\\sum_{i}^k v_i}{\\sum_{i}^k n_i} \\neq \\frac{1}{k} \\sum_i^k \\frac{v_i}{n_i}$$\n",
    "\n",
    "Or really simply, say we have two districts, one with 4 voters and the other with 6 voters. Let's say the smaller district has 3 Democrat voters and the larger district has 3 as well. Then, we can see this ineqality in action: "
   ]
  },
  {
   "cell_type": "code",
   "execution_count": 19,
   "metadata": {},
   "outputs": [
    {
     "data": {
      "text/plain": [
       "0.6"
      ]
     },
     "execution_count": 19,
     "metadata": {},
     "output_type": "execute_result"
    }
   ],
   "source": [
    "(3+3)/(4 + 6) # The popular vote for Dems"
   ]
  },
  {
   "cell_type": "code",
   "execution_count": 21,
   "metadata": {},
   "outputs": [
    {
     "data": {
      "text/plain": [
       "0.625"
      ]
     },
     "execution_count": 21,
     "metadata": {},
     "output_type": "execute_result"
    }
   ],
   "source": [
    "((3/4) + (3/6))/2 # The average district vote for Dems"
   ]
  },
  {
   "cell_type": "markdown",
   "metadata": {},
   "source": [
    "Practically speaking, this does not pose serious challenges to an analysis, so long as we recognize that the two are distinct conceptually and have different practical implications. In general, again, modern scholarship tends to focus on the mean district vote share because it's simpler to model, and tends to have more actionable impacts for practical models of elections. However, as Johnston (1983) discusses, this distinction can have a big impact when discussing the power of changes in vote share in specific districts. \n",
    "\n",
    "I'll illustrate the difference systematically below, but we'll need to keep this in mind later when discussing how seats-votes relationships may show *asymmetry* or *bias* for one party over another. "
   ]
  },
  {
   "cell_type": "code",
   "execution_count": 22,
   "metadata": {},
   "outputs": [],
   "source": [
    "house['dem_votes'] = house.vote_share * house.turnout"
   ]
  },
  {
   "cell_type": "markdown",
   "metadata": {},
   "source": [
    "Since we're working in Pandas, we can build up each years' average district voteshare *as well as* the the party voteshare in each year. I'll do this to show the discrepancy that occurs in the relationship (since it's often structurally-relevant).\n",
    "\n",
    "First we group:"
   ]
  },
  {
   "cell_type": "code",
   "execution_count": 23,
   "metadata": {},
   "outputs": [],
   "source": [
    "grouper = house.groupby('year')"
   ]
  },
  {
   "cell_type": "markdown",
   "metadata": {},
   "source": [
    "Then, get the total Dem votes in each year divided by the total turnout that year to get the *party voteshare*, or the popular vote for Dems:"
   ]
  },
  {
   "cell_type": "code",
   "execution_count": 25,
   "metadata": {},
   "outputs": [],
   "source": [
    "party_voteshare = grouper.dem_votes.sum() / grouper.turnout.sum()"
   ]
  },
  {
   "cell_type": "markdown",
   "metadata": {},
   "source": [
    "Then, we can use the `.mean()` method directly to get the mean of district voteshares:"
   ]
  },
  {
   "cell_type": "code",
   "execution_count": 26,
   "metadata": {},
   "outputs": [],
   "source": [
    "party_average_voteshare = grouper.vote_share.mean()"
   ]
  },
  {
   "cell_type": "markdown",
   "metadata": {},
   "source": [
    "Finally, while it can sometimes be flawed in multi-party elections, we'll rely on the fact that this data is *two party vote* data, not raw elections data. This means that we're only considering votes cast for one of the two main parties; all of the rest of the votes are discarded in this analysis. With this in mind, we can find whether or not the Democrat candidate won in the district by looking at whether or not the district's vote share for Democrats is more than 50%. In two-party vote share data, this means that the Democratic vote share is larger than the Republican vote share, regardless of if *neither of them* win an outright majority. "
   ]
  },
  {
   "cell_type": "code",
   "execution_count": 27,
   "metadata": {},
   "outputs": [],
   "source": [
    "party_seatshare = grouper.apply(lambda x: (x.vote_share > .5).mean())"
   ]
  },
  {
   "cell_type": "markdown",
   "metadata": {},
   "source": [
    "Now, we have the party's popular vote (or party voteshare) in each election to Congress since 1896, we have the average district vote too, and we have the fraction of the congress Dems won that year.\n",
    "\n",
    "Then, we can see the way the average district vote (or the popular voteshare) are related to the fraction of Congress Dems win by making a scatterplot of all the years together:"
   ]
  },
  {
   "cell_type": "code",
   "execution_count": 28,
   "metadata": {},
   "outputs": [
    {
     "data": {
      "text/plain": [
       "Text(0,0.5,'% Seats won by Dems')"
      ]
     },
     "execution_count": 28,
     "metadata": {},
     "output_type": "execute_result"
    },
    {
     "data": {
      "image/png": "[encoded data removed]",
      "text/plain": [
       "<Figure size 432x288 with 1 Axes>"
      ]
     },
     "metadata": {
      "needs_background": "light"
     },
     "output_type": "display_data"
    }
   ],
   "source": [
    "plt.scatter(party_average_voteshare, party_seatshare, \n",
    "            label='Party Popular Voteshare')\n",
    "plt.scatter(party_voteshare, party_seatshare, \n",
    "            label='Average District Voteshare')\n",
    "plt.legend()\n",
    "plt.xlabel(\"% Dem\")\n",
    "plt.ylabel(\"% Seats won by Dems\")"
   ]
  },
  {
   "cell_type": "markdown",
   "metadata": {},
   "source": [
    "Note that, in general, the average district voteshare is *smaller than* the party popular voteshare. *talk about McDonald and the way turnout and vote choice interact from Linzer*. "
   ]
  },
  {
   "cell_type": "markdown",
   "metadata": {},
   "source": [
    "# The classic seats-votes model"
   ]
  },
  {
   "cell_type": "markdown",
   "metadata": {},
   "source": [
    "Actually fit the Tufte/tageparga model"
   ]
  },
  {
   "cell_type": "code",
   "execution_count": null,
   "metadata": {},
   "outputs": [],
   "source": []
  }
 ],
 "metadata": {
  "anaconda-cloud": {},
  "kernelspec": {
   "display_name": "Analysis",
   "language": "python",
   "name": "ana"
  },
  "language_info": {
   "codemirror_mode": {
    "name": "ipython",
    "version": 3
   },
   "file_extension": ".py",
   "mimetype": "text/x-python",
   "name": "python",
   "nbconvert_exporter": "python",
   "pygments_lexer": "ipython3",
   "version": "3.6.6"
  }
 },
 "nbformat": 4,
 "nbformat_minor": 2
}
