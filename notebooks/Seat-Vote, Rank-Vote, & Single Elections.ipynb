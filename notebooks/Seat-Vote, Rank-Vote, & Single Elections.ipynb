{
 "cells": [
  {
   "cell_type": "markdown",
   "metadata": {},
   "source": [
    "# Do the seat-rank-vote discussion here"
   ]
  },
  {
   "cell_type": "code",
   "execution_count": null,
   "metadata": {},
   "outputs": [],
   "source": [
    "y,x,patches = plt.hist(house.dropna(subset=['vote_share']).vote_share.values, \n",
    "                         cumulative=True, density=True,\n",
    "                         color='r', bins=100, linewidth=3,\n",
    "                       label='Total % \\nWon by Dems')\n",
    "plt.hist(house.dropna(subset=['vote_share']).vote_share.values, \n",
    "                         cumulative=True, density=True, histtype='step',\n",
    "                         color='k', bins=100, linewidth=3)\n",
    "for xi,patch in zip(x,patches):\n",
    "    if xi > .5:\n",
    "        patch.set_color('blue')\n",
    "plt.xlabel(\"% Votes in District (D)\")\n",
    "plt.ylabel(\"% Seats in Congress (D)\")\n",
    "plt.legend()\n",
    "sns.despine()\n",
    "plt.show()"
   ]
  },
  {
   "cell_type": "code",
   "execution_count": null,
   "metadata": {},
   "outputs": [],
   "source": [
    "for year,chunk in house.groupby('year'):\n",
    "    plt.hist(chunk.vote_share.dropna().values, \n",
    "                             cumulative=True, density=True, histtype='step',\n",
    "                             color='k', bins=100, alpha=.2, zorder=1000)\n",
    "plt.hist(house.dropna(subset=['vote_share']).vote_share.values, \n",
    "         cumulative=True, density=True, histtype='step',\n",
    "         color='orangered', bins=100, linewidth=6)\n",
    "plt.show()"
   ]
  },
  {
   "cell_type": "markdown",
   "metadata": {},
   "source": [
    "# Uniform partisan swing"
   ]
  },
  {
   "cell_type": "code",
   "execution_count": null,
   "metadata": {},
   "outputs": [],
   "source": [
    "hope = house.query('year == 1992')\\\n",
    "                 .dropna(subset=['vote_share'])\\\n",
    "                 .vote_share.values"
   ]
  },
  {
   "cell_type": "markdown",
   "metadata": {},
   "source": [
    "Changes can only occur in more than $1/n$ increments. SO, the horizontal lines mark off each possible vertical value corresponding to a given voteshare in the district"
   ]
  },
  {
   "cell_type": "code",
   "execution_count": null,
   "metadata": {},
   "outputs": [],
   "source": [
    "f,ax = plt.subplots(1,2,figsize=(8,4), subplot_kw=dict(aspect='equal'))\n",
    "y,x,patches = ax[0].hist(hope, \n",
    "                         cumulative=True, density=True,\n",
    "                         color='k', bins=n, linewidth=3,\n",
    "                       label='Total % \\nWon by Dems')\n",
    "y,x,patches = ax[1].hist(hope, \n",
    "                         cumulative=True, density=True,\n",
    "                         color='k', bins=n, linewidth=3,\n",
    "                       label='Total % \\nWon by Dems')\n",
    "plt.vlines(.5,0,.5, color='orangered', linewidth=2)\n",
    "ax[1].hlines(np.arange(0,n)/n,0,1, \n",
    "             color='lightgrey', \n",
    "             alpha=1, zorder=-1)\n",
    "ax[0].hlines(np.arange(0,n)/n,0,1, \n",
    "             color='lightgrey', \n",
    "             alpha=1, zorder=-1)\n",
    "plt.xlim(.45, .55)\n",
    "plt.ylim(.36, .47)"
   ]
  },
  {
   "cell_type": "markdown",
   "metadata": {},
   "source": [
    "if we assume that the average district voteshares slide forwards or backwards by a *uniform amount* (the assumption called the uniform partisan swing), then each of these changes will only move a single district at a time. \n",
    "\n",
    "So, under the assumption of uniform swing, this represents the relationship between the average vote share and the % of seats won. \n",
    "\n",
    "To get the actual seats-votes curve (in terms of party vote share, not average party vote) it is sufficient to shift this ecdf."
   ]
  },
  {
   "cell_type": "markdown",
   "metadata": {},
   "source": [
    "# This assumption is somewhat unrealistic given the data. "
   ]
  },
  {
   "cell_type": "code",
   "execution_count": 19,
   "metadata": {},
   "outputs": [],
   "source": [
    "aughties = house.query('year > 2000 & year < 2012')"
   ]
  },
  {
   "cell_type": "code",
   "execution_count": 20,
   "metadata": {},
   "outputs": [
    {
     "name": "stderr",
     "output_type": "stream",
     "text": [
      "/home/lw17329/anaconda/envs/ana/lib/python3.6/site-packages/ipykernel_launcher.py:1: SettingWithCopyWarning: \n",
      "A value is trying to be set on a copy of a slice from a DataFrame.\n",
      "Try using .loc[row_indexer,col_indexer] = value instead\n",
      "\n",
      "See the caveats in the documentation: http://pandas.pydata.org/pandas-docs/stable/indexing.html#indexing-view-versus-copy\n",
      "  \"\"\"Entry point for launching an IPython kernel.\n"
     ]
    }
   ],
   "source": [
    "aughties['district_id'] = aughties.state_fips.astype(str).str.rjust(2,'0') \\\n",
    "                        + aughties.lewis_dist.astype(str).str.rjust(2, '0')"
   ]
  },
  {
   "cell_type": "code",
   "execution_count": 21,
   "metadata": {},
   "outputs": [],
   "source": [
    "swings = aughties.pivot(index='district_id', \n",
    "               columns='year', \n",
    "               values='vote_share').diff(axis=1).drop(2002,axis=1)"
   ]
  },
  {
   "cell_type": "code",
   "execution_count": 22,
   "metadata": {},
   "outputs": [
    {
     "data": {
      "text/plain": [
       "array([[<matplotlib.axes._subplots.AxesSubplot object at 0x7fdf8bd352e8>,\n",
       "        <matplotlib.axes._subplots.AxesSubplot object at 0x7fdf8bd1dac8>],\n",
       "       [<matplotlib.axes._subplots.AxesSubplot object at 0x7fdf8a9f00f0>,\n",
       "        <matplotlib.axes._subplots.AxesSubplot object at 0x7fdf89ed95f8>]],\n",
       "      dtype=object)"
      ]
     },
     "execution_count": 22,
     "metadata": {},
     "output_type": "execute_result"
    },
    {
     "data": {
      "image/png": "[encoded data removed]",
      "text/plain": [
       "<Figure size 432x288 with 4 Axes>"
      ]
     },
     "metadata": {},
     "output_type": "display_data"
    }
   ],
   "source": [
    "swings.hist()"
   ]
  },
  {
   "cell_type": "code",
   "execution_count": 23,
   "metadata": {},
   "outputs": [
    {
     "data": {
      "text/plain": [
       "array([[<matplotlib.axes._subplots.AxesSubplot object at 0x7fdf8be002e8>,\n",
       "        <matplotlib.axes._subplots.AxesSubplot object at 0x7fdf8bd2c748>],\n",
       "       [<matplotlib.axes._subplots.AxesSubplot object at 0x7fdf8aa28358>,\n",
       "        <matplotlib.axes._subplots.AxesSubplot object at 0x7fdf8aa409e8>]],\n",
       "      dtype=object)"
      ]
     },
     "execution_count": 23,
     "metadata": {},
     "output_type": "execute_result"
    },
    {
     "data": {
      "image/png": "[encoded data removed]",
      "text/plain": [
       "<Figure size 432x288 with 4 Axes>"
      ]
     },
     "metadata": {},
     "output_type": "display_data"
    }
   ],
   "source": [
    "midswing = aughties.query('vote_share < .75 & vote_share > .25')\\\n",
    "                    .pivot(index='district_id', \n",
    "                           columns='year', \n",
    "                           values='vote_share')\\\n",
    "                    .diff(axis=1).drop(2002,axis=1)\n",
    "midswing.hist(bins=40)"
   ]
  },
  {
   "cell_type": "code",
   "execution_count": 24,
   "metadata": {},
   "outputs": [],
   "source": [
    "spswing = aughties.merge(midswing[2004].to_frame('swing'), \n",
    "                         left_on='district_id', \n",
    "                         right_index=True,how='left')\n",
    "spswing = spswing.query('state_name not in (\"alaska\", \"hawaii\")')"
   ]
  },
  {
   "cell_type": "code",
   "execution_count": 25,
   "metadata": {},
   "outputs": [
    {
     "data": {
      "text/plain": [
       "<matplotlib.axes._subplots.AxesSubplot at 0x7fdf89f5dfd0>"
      ]
     },
     "execution_count": 25,
     "metadata": {},
     "output_type": "execute_result"
    },
    {
     "data": {
      "image/png": "[encoded data removed]",
      "text/plain": [
       "<Figure size 432x288 with 1 Axes>"
      ]
     },
     "metadata": {},
     "output_type": "display_data"
    }
   ],
   "source": [
    "ax = spswing[~spswing.swing.isnull()].plot('swing', cmap='RdYlBu')\n",
    "spswing[spswing.swing.isnull()].plot(color='lightgrey', edgecolor='k', \n",
    "                                     linewidth=.1, zorder=-1,ax=ax)"
   ]
  },
  {
   "cell_type": "code",
   "execution_count": 27,
   "metadata": {},
   "outputs": [
    {
     "name": "stderr",
     "output_type": "stream",
     "text": [
      "/home/lw17329/anaconda/envs/ana/lib/python3.6/site-packages/pysal/__init__.py:65: VisibleDeprecationWarning: PySAL's API will be changed on 2018-12-31. The last release made with this API is version 1.14.4. A preview of the next API version is provided in the `pysal` 2.0 prelease candidate. The API changes and a guide on how to change imports is provided at https://pysal.org/about\n",
      "  ), VisibleDeprecationWarning)\n"
     ]
    }
   ],
   "source": [
    "import pysal"
   ]
  },
  {
   "cell_type": "code",
   "execution_count": 28,
   "metadata": {},
   "outputs": [
    {
     "name": "stderr",
     "output_type": "stream",
     "text": [
      "/home/lw17329/anaconda/envs/ana/lib/python3.6/site-packages/ipykernel_launcher.py:1: SettingWithCopyWarning: \n",
      "A value is trying to be set on a copy of a slice from a DataFrame.\n",
      "Try using .loc[row_indexer,col_indexer] = value instead\n",
      "\n",
      "See the caveats in the documentation: http://pandas.pydata.org/pandas-docs/stable/indexing.html#indexing-view-versus-copy\n",
      "  \"\"\"Entry point for launching an IPython kernel.\n"
     ]
    }
   ],
   "source": [
    "aughties['geometry'] = aughties.simplify(tolerance=1e-3, preserve_topology=True)"
   ]
  },
  {
   "cell_type": "code",
   "execution_count": 29,
   "metadata": {},
   "outputs": [],
   "source": [
    "Is = []\n",
    "for y in np.arange(2004,2012,2):\n",
    "    spswing = aughties.merge(midswing[y].to_frame('swing'), \n",
    "                         left_on='district_id', \n",
    "                         right_index=True,how='left')\n",
    "    spswing = spswing.query('state_name not in (\"alaska\", \"hawaii\")')\n",
    "    W = pysal.weights.Queen.from_dataframe(spswing)\n",
    "    Is.append(pysal.Moran(spswing.swing.fillna(0), W))"
   ]
  },
  {
   "cell_type": "code",
   "execution_count": 30,
   "metadata": {},
   "outputs": [
    {
     "data": {
      "text/plain": [
       "Text(0.5,0,\"Moran's I for queen congressional district swings\")"
      ]
     },
     "execution_count": 30,
     "metadata": {},
     "output_type": "execute_result"
    },
    {
     "data": {
      "image/png": "[encoded data removed]",
      "text/plain": [
       "<Figure size 432x288 with 1 Axes>"
      ]
     },
     "metadata": {},
     "output_type": "display_data"
    }
   ],
   "source": [
    "plt.errorbar(np.arange(2004,2012,2), \n",
    "             [mi.I for mi in Is],\n",
    "             [mi.VI_rand**.5 for mi in Is],\n",
    "             fmt='none', color='k')\n",
    "plt.scatter(np.arange(2004,2012,2), \n",
    "             [mi.I for mi in Is], marker='x', color='r', zorder=100)\n",
    "plt.xticks(np.arange(2004,2012,2))\n",
    "sns.despine()\n",
    "plt.xlabel(\"Moran's I for queen congressional district swings\")"
   ]
  },
  {
   "cell_type": "code",
   "execution_count": null,
   "metadata": {},
   "outputs": [],
   "source": []
  },
  {
   "cell_type": "code",
   "execution_count": null,
   "metadata": {},
   "outputs": [],
   "source": []
  },
  {
   "cell_type": "code",
   "execution_count": null,
   "metadata": {},
   "outputs": [],
   "source": []
  }
 ],
 "metadata": {
  "kernelspec": {
   "display_name": "Analysis",
   "language": "python",
   "name": "ana"
  },
  "language_info": {
   "codemirror_mode": {
    "name": "ipython",
    "version": 3
   },
   "file_extension": ".py",
   "mimetype": "text/x-python",
   "name": "python",
   "nbconvert_exporter": "python",
   "pygments_lexer": "ipython3",
   "version": "3.6.6"
  }
 },
 "nbformat": 4,
 "nbformat_minor": 2
}
