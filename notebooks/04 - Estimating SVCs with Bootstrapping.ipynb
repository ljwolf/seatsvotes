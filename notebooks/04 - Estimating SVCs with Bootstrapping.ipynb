{
 "cells": [
  {
   "cell_type": "markdown",
   "metadata": {},
   "source": [
    "# Estimating Seats-Votes Curves using a Bootstrap approach\n",
    "\n",
    "*Levi John Wolf<br>\n",
    "University of Bristol<br>\n",
    "levi.john.wolf@gmail.com<br>\n",
    "(Supported by NSF #1657689)*"
   ]
  },
  {
   "cell_type": "markdown",
   "metadata": {},
   "source": [
    "As we have seen in previous discussions of bias measures & seats-votes curves, it's sometimes helpful to have a method to replicate/simulate additional elections that look *somewhat* like those we did observe, but also involve some kind of small adjustment or marginal change to the values involved in the problem. Having these simulated elections allows us to estimate the values of partisan bias (or, any other relevant electoral statistic) for the *entire set* of simulated elections, in addition to the one that was observed. If these simulations are constructed in a way that meaningfully models a scenario under study, then analyzing the simulations provides a model of the intrinsic variability in the estimate of partisan bias. Thus, these elections simulators are useful in providing a rough estimate of the intrinsic variability in our estimates about the electoral system. \n",
    "\n",
    "In general, the simulators implemented in the `seatsvotes` package aim to replicate or extend existing work. However, two of the simplest simulators are novel, and deserve explanation separately from the replication of Gelman & King (1994), Linzer (2012), or McGann et al. (2015). Thus, I will first explain & discuss the *Bootstrap* simulator used in the previous 4 chapters. I'll discuss this in depth.\n",
    "\n",
    "First, though, we need to import some packages useful for visualizing electoral data:"
   ]
  },
  {
   "cell_type": "code",
   "execution_count": 1,
   "metadata": {},
   "outputs": [],
   "source": [
    "import pandas\n",
    "import numpy\n",
    "import seaborn\n",
    "import seatsvotes\n",
    "import matplotlib.pyplot as plt\n",
    "%matplotlib inline"
   ]
  },
  {
   "cell_type": "markdown",
   "metadata": {},
   "source": [
    "Then, we'll use the built-in example dataset for the `seatsvotes` package:"
   ]
  },
  {
   "cell_type": "code",
   "execution_count": 2,
   "metadata": {},
   "outputs": [],
   "source": [
    "house = seatsvotes.data.congress(geo=True)\n",
    "house = house.query('year in (2006,2008)')"
   ]
  },
  {
   "cell_type": "markdown",
   "metadata": {},
   "source": [
    "The bootstrap simulator works by \n",
    "1. shuffling the change in vote from last year to this year\n",
    "2. applying the shuffled changes back to last year to build a \"new\" this year.\n",
    "\n",
    "Formally, with two elections in time $t$ and time $t-1$, a *swing* vector is built as:\n",
    "\n",
    "$$ \\delta = v_t - v_{t-1}$$\n",
    "\n",
    "Then, a new hypothetical election in time $t$ is built by *shuffling* $\\delta$ to make $\\tilde \\delta$, and:\n",
    "\n",
    "$$ v_{t-1} + \\tilde{\\delta} = v_t' $$\n",
    "\n",
    "If $\\delta$ weren't shuffled, $v_t' = v_t$, since we'd just apply the change in vote between $v_{t-1}$ and $v_{t}$ *back to* $v_{t-1}$. However, since we shuffle $\\delta$, we obtain elections that, on average, look like $v_t$, but at any specific $v_t'$, may look quite different from the observed outcome $v_t$. \n",
    "\n",
    "Theoretically, this shuffling ensures that any structural or ephemeral advantages experienced by legislators (such as candidate quality, incumbency, race, down-ballot effects, or weather effects) propagate into the simulated elections. The *change* in vote shares from year to year includes both the intrinsic random factors and the structural factors relating candidates. However, in the best case, the same candidate runs for reelection in the same district. When this occurs, the *structural* factors relating to the candidate are unlikely to change; the same candidate is running, so their personal structural advantage or disadvantage do not necessarily change a large amount. \n",
    "\n",
    "Sometimes, of course, they do: \n",
    "\n",
    "- a candidate may win an election in time $t-1$ and then run for re-election in period $t$ unopposed \n",
    "- a candidate may experience strong presidential coattails in time $t-1$ and then face stiff midterm opposition by high-quality challengers in time $t$\n",
    "\n",
    "However, many of the factors that do tend to be relevant for electoral analysis are held constant, and (as we discussed) elections tend to (on average) look like the observed $v_t$. \n",
    "\n",
    "Showing how this works, let's first just use the estimator to structure the data & prepare it for analysis:"
   ]
  },
  {
   "cell_type": "code",
   "execution_count": 3,
   "metadata": {},
   "outputs": [
    {
     "data": {
      "text/html": [
       "<div>\n",
       "<style scoped>\n",
       "    .dataframe tbody tr th:only-of-type {\n",
       "        vertical-align: middle;\n",
       "    }\n",
       "\n",
       "    .dataframe tbody tr th {\n",
       "        vertical-align: top;\n",
       "    }\n",
       "\n",
       "    .dataframe thead th {\n",
       "        text-align: right;\n",
       "    }\n",
       "</style>\n",
       "<table border=\"1\" class=\"dataframe\">\n",
       "  <thead>\n",
       "    <tr style=\"text-align: right;\">\n",
       "      <th></th>\n",
       "      <th>index</th>\n",
       "      <th>congress</th>\n",
       "      <th>year</th>\n",
       "      <th>delsouth</th>\n",
       "      <th>state_fips</th>\n",
       "      <th>contest_ui</th>\n",
       "      <th>inc</th>\n",
       "      <th>king_dist</th>\n",
       "      <th>lewis_dist</th>\n",
       "      <th>state_name</th>\n",
       "      <th>turnout</th>\n",
       "      <th>vote_share</th>\n",
       "      <th>geom_uid</th>\n",
       "      <th>geometry</th>\n",
       "    </tr>\n",
       "  </thead>\n",
       "  <tbody>\n",
       "    <tr>\n",
       "      <th>1740</th>\n",
       "      <td>8257</td>\n",
       "      <td>110</td>\n",
       "      <td>2006</td>\n",
       "      <td>1</td>\n",
       "      <td>12</td>\n",
       "      <td>110012021</td>\n",
       "      <td>-1</td>\n",
       "      <td>NaN</td>\n",
       "      <td>21</td>\n",
       "      <td>florida</td>\n",
       "      <td>112306.0</td>\n",
       "      <td>0.405339</td>\n",
       "      <td>012108112021</td>\n",
       "      <td>POLYGON ((-80.30847300000001 25.77737699999997...</td>\n",
       "    </tr>\n",
       "    <tr>\n",
       "      <th>1741</th>\n",
       "      <td>8258</td>\n",
       "      <td>110</td>\n",
       "      <td>2006</td>\n",
       "      <td>1</td>\n",
       "      <td>05</td>\n",
       "      <td>110005003</td>\n",
       "      <td>-1</td>\n",
       "      <td>NaN</td>\n",
       "      <td>3</td>\n",
       "      <td>arkansas</td>\n",
       "      <td>200924.0</td>\n",
       "      <td>0.377680</td>\n",
       "      <td>005108112003</td>\n",
       "      <td>POLYGON ((-94.43377207885037 35.31490172478177...</td>\n",
       "    </tr>\n",
       "    <tr>\n",
       "      <th>1742</th>\n",
       "      <td>8259</td>\n",
       "      <td>110</td>\n",
       "      <td>2006</td>\n",
       "      <td>1</td>\n",
       "      <td>12</td>\n",
       "      <td>110012017</td>\n",
       "      <td>1</td>\n",
       "      <td>NaN</td>\n",
       "      <td>17</td>\n",
       "      <td>florida</td>\n",
       "      <td>90663.0</td>\n",
       "      <td>1.000000</td>\n",
       "      <td>012108112017</td>\n",
       "      <td>POLYGON ((-80.184569 25.84757400000002, -80.18...</td>\n",
       "    </tr>\n",
       "    <tr>\n",
       "      <th>1743</th>\n",
       "      <td>8260</td>\n",
       "      <td>110</td>\n",
       "      <td>2006</td>\n",
       "      <td>1</td>\n",
       "      <td>12</td>\n",
       "      <td>110012018</td>\n",
       "      <td>-1</td>\n",
       "      <td>NaN</td>\n",
       "      <td>18</td>\n",
       "      <td>florida</td>\n",
       "      <td>128130.0</td>\n",
       "      <td>0.378514</td>\n",
       "      <td>012108112018</td>\n",
       "      <td>(POLYGON ((-80.312274 25.638081, -80.312174 25...</td>\n",
       "    </tr>\n",
       "    <tr>\n",
       "      <th>1744</th>\n",
       "      <td>8261</td>\n",
       "      <td>110</td>\n",
       "      <td>2006</td>\n",
       "      <td>1</td>\n",
       "      <td>12</td>\n",
       "      <td>110012020</td>\n",
       "      <td>1</td>\n",
       "      <td>NaN</td>\n",
       "      <td>20</td>\n",
       "      <td>florida</td>\n",
       "      <td>NaN</td>\n",
       "      <td>1.000000</td>\n",
       "      <td>012108112020</td>\n",
       "      <td>(POLYGON ((-80.214769 26.04646699999997, -80.2...</td>\n",
       "    </tr>\n",
       "  </tbody>\n",
       "</table>\n",
       "</div>"
      ],
      "text/plain": [
       "      index  congress  year  delsouth state_fips contest_ui  inc  king_dist  \\\n",
       "1740   8257       110  2006         1         12  110012021   -1        NaN   \n",
       "1741   8258       110  2006         1         05  110005003   -1        NaN   \n",
       "1742   8259       110  2006         1         12  110012017    1        NaN   \n",
       "1743   8260       110  2006         1         12  110012018   -1        NaN   \n",
       "1744   8261       110  2006         1         12  110012020    1        NaN   \n",
       "\n",
       "      lewis_dist state_name   turnout  vote_share      geom_uid  \\\n",
       "1740          21    florida  112306.0    0.405339  012108112021   \n",
       "1741           3   arkansas  200924.0    0.377680  005108112003   \n",
       "1742          17    florida   90663.0    1.000000  012108112017   \n",
       "1743          18    florida  128130.0    0.378514  012108112018   \n",
       "1744          20    florida       NaN    1.000000  012108112020   \n",
       "\n",
       "                                               geometry  \n",
       "1740  POLYGON ((-80.30847300000001 25.77737699999997...  \n",
       "1741  POLYGON ((-94.43377207885037 35.31490172478177...  \n",
       "1742  POLYGON ((-80.184569 25.84757400000002, -80.18...  \n",
       "1743  (POLYGON ((-80.312274 25.638081, -80.312174 25...  \n",
       "1744  (POLYGON ((-80.214769 26.04646699999997, -80.2...  "
      ]
     },
     "execution_count": 3,
     "metadata": {},
     "output_type": "execute_result"
    }
   ],
   "source": [
    "house.head()"
   ]
  },
  {
   "cell_type": "code",
   "execution_count": 4,
   "metadata": {},
   "outputs": [],
   "source": [
    "house['district_id'] = house.contest_ui.apply(lambda x: x[3:])"
   ]
  },
  {
   "cell_type": "code",
   "execution_count": 5,
   "metadata": {},
   "outputs": [
    {
     "name": "stderr",
     "output_type": "stream",
     "text": [
      "/home/lw17329/Dropbox/dissert/dev/seatsvotes/seatsvotes/utils.py:143: UserWarning: computing redistricting from years vector\n",
      "  warn('computing redistricting from years vector')\n",
      "/home/lw17329/anaconda/envs/ana/lib/python3.6/site-packages/pandas/core/frame.py:3781: SettingWithCopyWarning: \n",
      "A value is trying to be set on a copy of a slice from a DataFrame\n",
      "\n",
      "See the caveats in the documentation: http://pandas.pydata.org/pandas-docs/stable/indexing.html#indexing-view-versus-copy\n",
      "  return super(DataFrame, self).rename(**kwargs)\n"
     ]
    }
   ],
   "source": [
    "bootstrapper = seatsvotes.Bootstrap(house, \n",
    "                                    uncontested='ignore',\n",
    "                                    district_id='district_id')"
   ]
  },
  {
   "cell_type": "markdown",
   "metadata": {},
   "source": [
    "Before we simulate elections, let's inspect the data used to build the bootstrapper. For most classes in `seatsvotes`, a \"wide\" representation of the electoral data is built automatically. The `wide` attribute, then, is a list of each year's elections frame, including the previous year's voteshares (if no redistricting occurs). This is formed by partially pivoting the table to ensure that each year's dataframe has last year's vote shares, too. \n",
    "\n",
    "This is mainly useful, though, for the analysis of the vote share dataframes directly:"
   ]
  },
  {
   "cell_type": "code",
   "execution_count": 8,
   "metadata": {},
   "outputs": [
    {
     "data": {
      "text/html": [
       "<div>\n",
       "<style scoped>\n",
       "    .dataframe tbody tr th:only-of-type {\n",
       "        vertical-align: middle;\n",
       "    }\n",
       "\n",
       "    .dataframe tbody tr th {\n",
       "        vertical-align: top;\n",
       "    }\n",
       "\n",
       "    .dataframe thead th {\n",
       "        text-align: right;\n",
       "    }\n",
       "</style>\n",
       "<table border=\"1\" class=\"dataframe\">\n",
       "  <thead>\n",
       "    <tr style=\"text-align: right;\">\n",
       "      <th></th>\n",
       "      <th>index</th>\n",
       "      <th>congress</th>\n",
       "      <th>year</th>\n",
       "      <th>delsouth</th>\n",
       "      <th>state_fips</th>\n",
       "      <th>contest_ui</th>\n",
       "      <th>inc</th>\n",
       "      <th>king_dist</th>\n",
       "      <th>lewis_dist</th>\n",
       "      <th>state_name</th>\n",
       "      <th>turnout</th>\n",
       "      <th>vote_share</th>\n",
       "      <th>geom_uid</th>\n",
       "      <th>geometry</th>\n",
       "      <th>district_id</th>\n",
       "      <th>weight</th>\n",
       "      <th>uncontested</th>\n",
       "      <th>redist</th>\n",
       "      <th>vote_share__prev</th>\n",
       "    </tr>\n",
       "  </thead>\n",
       "  <tbody>\n",
       "    <tr>\n",
       "      <th>0</th>\n",
       "      <td>13914</td>\n",
       "      <td>111</td>\n",
       "      <td>2008</td>\n",
       "      <td>1</td>\n",
       "      <td>12</td>\n",
       "      <td>111012021</td>\n",
       "      <td>-1</td>\n",
       "      <td>NaN</td>\n",
       "      <td>21</td>\n",
       "      <td>florida</td>\n",
       "      <td>237002.0</td>\n",
       "      <td>0.420992</td>\n",
       "      <td>012108112021</td>\n",
       "      <td>POLYGON ((-80.30847300000001 25.77737699999997...</td>\n",
       "      <td>012021</td>\n",
       "      <td>1</td>\n",
       "      <td>0</td>\n",
       "      <td>0</td>\n",
       "      <td>0.405339</td>\n",
       "    </tr>\n",
       "    <tr>\n",
       "      <th>1</th>\n",
       "      <td>13915</td>\n",
       "      <td>111</td>\n",
       "      <td>2008</td>\n",
       "      <td>1</td>\n",
       "      <td>05</td>\n",
       "      <td>111005003</td>\n",
       "      <td>-1</td>\n",
       "      <td>NaN</td>\n",
       "      <td>3</td>\n",
       "      <td>arkansas</td>\n",
       "      <td>215196.0</td>\n",
       "      <td>0.000000</td>\n",
       "      <td>005108112003</td>\n",
       "      <td>POLYGON ((-94.43377207885037 35.31490172478177...</td>\n",
       "      <td>005003</td>\n",
       "      <td>1</td>\n",
       "      <td>-1</td>\n",
       "      <td>0</td>\n",
       "      <td>0.377680</td>\n",
       "    </tr>\n",
       "    <tr>\n",
       "      <th>2</th>\n",
       "      <td>13916</td>\n",
       "      <td>111</td>\n",
       "      <td>2008</td>\n",
       "      <td>1</td>\n",
       "      <td>12</td>\n",
       "      <td>111012017</td>\n",
       "      <td>1</td>\n",
       "      <td>NaN</td>\n",
       "      <td>17</td>\n",
       "      <td>florida</td>\n",
       "      <td>NaN</td>\n",
       "      <td>1.000000</td>\n",
       "      <td>012108112017</td>\n",
       "      <td>POLYGON ((-80.184569 25.84757400000002, -80.18...</td>\n",
       "      <td>012017</td>\n",
       "      <td>1</td>\n",
       "      <td>1</td>\n",
       "      <td>0</td>\n",
       "      <td>1.000000</td>\n",
       "    </tr>\n",
       "    <tr>\n",
       "      <th>3</th>\n",
       "      <td>13917</td>\n",
       "      <td>111</td>\n",
       "      <td>2008</td>\n",
       "      <td>1</td>\n",
       "      <td>12</td>\n",
       "      <td>111012018</td>\n",
       "      <td>-1</td>\n",
       "      <td>NaN</td>\n",
       "      <td>18</td>\n",
       "      <td>florida</td>\n",
       "      <td>242989.0</td>\n",
       "      <td>0.421303</td>\n",
       "      <td>012108112018</td>\n",
       "      <td>(POLYGON ((-80.312274 25.638081, -80.312174 25...</td>\n",
       "      <td>012018</td>\n",
       "      <td>1</td>\n",
       "      <td>0</td>\n",
       "      <td>0</td>\n",
       "      <td>0.378514</td>\n",
       "    </tr>\n",
       "    <tr>\n",
       "      <th>4</th>\n",
       "      <td>13918</td>\n",
       "      <td>111</td>\n",
       "      <td>2008</td>\n",
       "      <td>1</td>\n",
       "      <td>12</td>\n",
       "      <td>111012020</td>\n",
       "      <td>1</td>\n",
       "      <td>NaN</td>\n",
       "      <td>20</td>\n",
       "      <td>florida</td>\n",
       "      <td>202832.0</td>\n",
       "      <td>1.000000</td>\n",
       "      <td>012108112020</td>\n",
       "      <td>(POLYGON ((-80.214769 26.04646699999997, -80.2...</td>\n",
       "      <td>012020</td>\n",
       "      <td>1</td>\n",
       "      <td>1</td>\n",
       "      <td>0</td>\n",
       "      <td>1.000000</td>\n",
       "    </tr>\n",
       "  </tbody>\n",
       "</table>\n",
       "</div>"
      ],
      "text/plain": [
       "   index  congress  year  delsouth state_fips contest_ui  inc  king_dist  \\\n",
       "0  13914       111  2008         1         12  111012021   -1        NaN   \n",
       "1  13915       111  2008         1         05  111005003   -1        NaN   \n",
       "2  13916       111  2008         1         12  111012017    1        NaN   \n",
       "3  13917       111  2008         1         12  111012018   -1        NaN   \n",
       "4  13918       111  2008         1         12  111012020    1        NaN   \n",
       "\n",
       "   lewis_dist state_name   turnout  vote_share      geom_uid  \\\n",
       "0          21    florida  237002.0    0.420992  012108112021   \n",
       "1           3   arkansas  215196.0    0.000000  005108112003   \n",
       "2          17    florida       NaN    1.000000  012108112017   \n",
       "3          18    florida  242989.0    0.421303  012108112018   \n",
       "4          20    florida  202832.0    1.000000  012108112020   \n",
       "\n",
       "                                            geometry district_id  weight  \\\n",
       "0  POLYGON ((-80.30847300000001 25.77737699999997...      012021       1   \n",
       "1  POLYGON ((-94.43377207885037 35.31490172478177...      005003       1   \n",
       "2  POLYGON ((-80.184569 25.84757400000002, -80.18...      012017       1   \n",
       "3  (POLYGON ((-80.312274 25.638081, -80.312174 25...      012018       1   \n",
       "4  (POLYGON ((-80.214769 26.04646699999997, -80.2...      012020       1   \n",
       "\n",
       "   uncontested  redist  vote_share__prev  \n",
       "0            0       0          0.405339  \n",
       "1           -1       0          0.377680  \n",
       "2            1       0          1.000000  \n",
       "3            0       0          0.378514  \n",
       "4            1       0          1.000000  "
      ]
     },
     "execution_count": 8,
     "metadata": {},
     "output_type": "execute_result"
    }
   ],
   "source": [
    "bootstrapper.wide[-1].head()"
   ]
  },
  {
   "cell_type": "markdown",
   "metadata": {},
   "source": [
    "Looking specifically at the vote shares in 2008, "
   ]
  },
  {
   "cell_type": "code",
   "execution_count": 13,
   "metadata": {},
   "outputs": [],
   "source": [
    "v08 = bootstrapper.wide[-1]"
   ]
  },
  {
   "cell_type": "markdown",
   "metadata": {},
   "source": [
    "we can see that the distribution of vote shares is shown below:"
   ]
  },
  {
   "cell_type": "code",
   "execution_count": 12,
   "metadata": {},
   "outputs": [
    {
     "data": {
      "text/plain": [
       "<matplotlib.axes._subplots.AxesSubplot at 0x7f8b3580d6a0>"
      ]
     },
     "execution_count": 12,
     "metadata": {},
     "output_type": "execute_result"
    },
    {
     "data": {
      "image/png": "[encoded data removed]",
      "text/plain": [
       "<Figure size 432x288 with 1 Axes>"
      ]
     },
     "metadata": {
      "needs_background": "light"
     },
     "output_type": "display_data"
    }
   ],
   "source": [
    "v08.vote_share.hist()"
   ]
  },
  {
   "cell_type": "markdown",
   "metadata": {},
   "source": [
    "Since each district has the vote shares won in 2006 and in 2008, we can get the *swings* experienced by districts from 2006 to 2008 as well:"
   ]
  },
  {
   "cell_type": "code",
   "execution_count": 14,
   "metadata": {},
   "outputs": [],
   "source": [
    "v08['swing'] = v08.vote_share - v08.vote_share__prev"
   ]
  },
  {
   "cell_type": "markdown",
   "metadata": {},
   "source": [
    "With the swing, we can construct many different alternative elections in 2008:"
   ]
  },
  {
   "cell_type": "code",
   "execution_count": 29,
   "metadata": {},
   "outputs": [
    {
     "data": {
      "image/png": "[encoded data removed]",
      "text/plain": [
       "<Figure size 432x288 with 1 Axes>"
      ]
     },
     "metadata": {
      "needs_background": "light"
     },
     "output_type": "display_data"
    }
   ],
   "source": [
    "for _ in range(1000):\n",
    "    shuffled_swing = v08.swing.sample(frac=1, replace=False).values\n",
    "    \n",
    "    simulation = numpy.clip(shuffled_swing + v08.vote_share__prev, 0,1)\n",
    "    \n",
    "    plt.hist(simulation, color='k', histtype='step', alpha=.01, bins=100, cumulative=True)\n",
    "plt.hist(v08.vote_share.values, color='orangered', histtype='step', bins=100, cumulative=True)\n",
    "plt.show()"
   ]
  },
  {
   "cell_type": "markdown",
   "metadata": {},
   "source": [
    "In general, this means that there are more *bootstrapped* elections between 0 & (about) 30% average Democrat vote share, and fewer comparatively with shares from around 75% to 95% Democrat vote share. The overrepresentation in this range is mainly composed of uncontested districts in 2006 that get randomly assigned a small swing that was observed for a competitive district near the center of the vote distribution. Overall, this means that the bootstrapping method in this case tends to overstate the \"weakly contested\" Republican districts & understate the \"weakly contested\" Democrat districts. Further, looking closely, the simulations are *slightly* more gentle for the districts in the middle of the cumulative distribution. "
   ]
  }
 ],
 "metadata": {
  "kernelspec": {
   "display_name": "Analysis",
   "language": "python",
   "name": "ana"
  },
  "language_info": {
   "codemirror_mode": {
    "name": "ipython",
    "version": 3
   },
   "file_extension": ".py",
   "mimetype": "text/x-python",
   "name": "python",
   "nbconvert_exporter": "python",
   "pygments_lexer": "ipython3",
   "version": "3.6.6"
  }
 },
 "nbformat": 4,
 "nbformat_minor": 2
}
